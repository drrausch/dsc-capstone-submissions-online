{
 "cells": [
  {
   "cell_type": "markdown",
   "metadata": {},
   "source": [
    "### Webscraping popular websites to find a source of truth"
   ]
  },
  {
   "cell_type": "markdown",
   "metadata": {},
   "source": [
    "From the Google Trends analysis, this project will focus on three design aesthetics that are recently popular and possibly more unfamiliar to the public. \n",
    "1. Midcentury Modern (MCM)\n",
    "2. Boho Chic\n",
    "3. Farmhouse "
   ]
  },
  {
   "cell_type": "code",
   "execution_count": 1,
   "metadata": {},
   "outputs": [],
   "source": [
    "import pandas as pd\n",
    "from bs4 import BeautifulSoup\n",
    "import requests\n",
    "import numpy as np \n",
    "import matplotlib.pyplot as plt\n",
    "import nltk\n",
    "from nltk.corpus import stopwords\n",
    "from nltk.tokenize import word_tokenize \n",
    "import re\n",
    "import seaborn as sns\n",
    "import string\n",
    "from sklearn.feature_extraction import text \n",
    "from sklearn.feature_extraction.text import CountVectorizer"
   ]
  },
  {
   "cell_type": "code",
   "execution_count": 2,
   "metadata": {},
   "outputs": [],
   "source": [
    "# url = 'https://www.apartmenttherapy.com/'\n",
    "# html = requests.get(url)\n",
    "# soup = BeautifulSoup(html.content, 'lxml')"
   ]
  },
  {
   "cell_type": "code",
   "execution_count": 3,
   "metadata": {
    "scrolled": true
   },
   "outputs": [],
   "source": [
    "# html.status_code"
   ]
  },
  {
   "cell_type": "markdown",
   "metadata": {},
   "source": [
    "Well! Apartment Therapy doesn't want me to grab their data, so we'll try a different site.\n",
    "\n",
    "A 403 status code is a \"Forbidden\" status, meaning I don't have proper permissions to scrape this site. "
   ]
  },
  {
   "cell_type": "markdown",
   "metadata": {},
   "source": [
    "### Midcentury Modern"
   ]
  },
  {
   "cell_type": "markdown",
   "metadata": {},
   "source": [
    "#### Architectual Digest"
   ]
  },
  {
   "cell_type": "markdown",
   "metadata": {},
   "source": [
    "test out an article first to get familiar with the html"
   ]
  },
  {
   "cell_type": "code",
   "execution_count": 4,
   "metadata": {},
   "outputs": [],
   "source": [
    "# url = 'https://www.architecturaldigest.com/story/lauren-goodman-rose-garden'\n",
    "# html = requests.get(url)\n",
    "# soup = BeautifulSoup(html.content, 'lxml')\n",
    "\n",
    "# html.status_code"
   ]
  },
  {
   "cell_type": "code",
   "execution_count": 5,
   "metadata": {},
   "outputs": [],
   "source": [
    "# container = soup.findAll('div', class_ = 'article__chunks')"
   ]
  },
  {
   "cell_type": "code",
   "execution_count": 6,
   "metadata": {},
   "outputs": [],
   "source": [
    "# article_text = container[0].findAll('p')"
   ]
  },
  {
   "cell_type": "markdown",
   "metadata": {},
   "source": [
    "Now create a function to scrape multiple articles at once!"
   ]
  },
  {
   "cell_type": "code",
   "execution_count": 7,
   "metadata": {},
   "outputs": [],
   "source": [
    "#create a function for AD articles that captures both article body and caption text\n",
    "\n",
    "def AD_scrape(urls, style):\n",
    "    '''scrape articles from architectual digest'''\n",
    "    ad_scraped = {}\n",
    "    c = 1\n",
    "    for link in urls: \n",
    "        html = requests.get(link)\n",
    "        soup = BeautifulSoup(html.content, 'lxml')\n",
    "        \n",
    "        container = soup.findAll('div', class_ = 'article__chunks')\n",
    "        smaller_container = container[0].findAll('p')\n",
    "        paragraph = []\n",
    "        for i in range(len(smaller_container)):\n",
    "            clean = smaller_container[i].text.strip()\n",
    "            ad_scraped.update({style + str(c): clean})\n",
    "            c += 1\n",
    "            \n",
    "    return ad_scraped "
   ]
  },
  {
   "cell_type": "code",
   "execution_count": 8,
   "metadata": {},
   "outputs": [
    {
     "data": {
      "text/plain": [
       "{'m1': 'When I do something, I go deep. So, when it came time to finding a new home in Marin County last October—after selling a much-loved 1894 Ernest Coxhead in Pacific Heights—it was time for an architectural palette cleanser. (Goodbye lead pane windows and hand-carved moody majesty; hello open floor plan, democratic design, and glass walls.) I wanted midcentury.',\n",
       " 'm2': 'In California, midcentury modern often means Eichler. The 1957 specimen I found was pure—with original luminous Philippine mahogany walls and sapphire wall-to-wall carpet (a dream manifestation).',\n",
       " 'm3': 'BEFORE: The original walls left something to be desired, both in paint condition and color choice. “The green walls competed with the greenery,” says Lauren, who wanted a backdrop for the roses to be the star, and that kept the historical integrity of the 1957 space. Swiss architect Le Corbusier, a pioneer of midcentury-modern design—also a painter and color theorist—was top of the list when it came to a choosing palette. “Le Corbusier was a primary inspiration for the house. Working with his pigment-rich, pure color, historical paint was a dream.”',\n",
       " 'm4': 'AFTER: Beneath the eye-popping spectrum of color, Lauren and rosarian Jennifer Board replaced the stone ground cover with black shaggy mulch. The rose garden at Sunnylands, the Annenberg estate in Palm Springs, designed by A. Quincy Jones, was a major inspiration for the project. Black mulch (also used at Sunnylands) both unifies the graphic space and allows the rose beds to retain moisture in the heat.',\n",
       " 'm5': 'The garden was flat and linear, with square shapes, entirely different from my former tiered romantic city garden, which was formal—to\\xa0go with the Tudor home. And since I am a renter this round, the improvement strategy is another ballgame (i.e., hold off on big investments, but not on drama!).',\n",
       " 'm6': 'I envisioned the\\xa0courtyard-like garden off the living, dining, and main bedroom (really, the heart of the indoor-outdoor promise of modern architecture) as a colorful rose garden. There were five inherited roses there already, but room for many more.',\n",
       " 'm7': 'Roses thrive in Marin—with sun and airflow. (In San Francisco, roses are prone to mold, the air is foggy and damp.)\\xa0Sunnylands—the midcentury Annenberg estate in Palm Springs, was a major inspiration. The\\xa0rose garden there is filled with heirloom breeds named after presidential wives. So, I began planting.',\n",
       " 'm8': '“Marice Utrillo’s red kitsch is off-set against deep turquoise blue,” Lauren explains.',\n",
       " 'm9': '“Blue Girl—one of my favorites with her rich eerie glow—was so weird and vibey in front of Le Corbusier’s cobalt,” says Lauren. “How could I not?”',\n",
       " 'm10': '“Doris Day yellow feels less twee and more modern against gray and black, but Limoges-chic against the celadon green,” says Lauren.',\n",
       " 'm11': 'Roses are high maintenance and can be complete prima donnas. As not to be foolhardy, I consulted with rosarian (I love this job title) Jennifer Board of Sécateur. I chose a color-saturated spectrum of varietals with droll names (Gold Struck, About Face, Perfect Moment, and Love Song) and beloved personalities (Lagerfeld, Paris d’Yves Saint Laurent, Maurice Utrillo, and Doris Day).',\n",
       " 'm12': 'But, no matter how many heirloom roses blossomed in glory (we added 18), the peeling white walls behind them needed a fresh coat of paint. Further, the alternating green walls (same color as the house exterior) competed with the greenery—neither party was flattered. Contrast was needed for the\\xa0plants to shine.',\n",
       " 'm13': 'BEFORE: The “nature” of color theory—Lauren matched each rose with a complementary hue. “It was like trying on lipstick,” she says. Here, Lauren holds up the flush of Les Couleurs Le Corbusier swatches which she and decorator Charles de Lisle chose to transform the outdated garden space.',\n",
       " 'm14': 'AFTER: Here, the newly refreshed walls are striped in a palette of Le Corbusier turquoises, blues, black, and gray. “Les Couleurs Le Corbusier are like water in a desert of sameness,” says Lauren. “The colors are pure and authentic to a time period and design revolution. The density and vibrance of the color. The edit. The combination and color theory. LCLC are both historic and yet entirely modern. They are like nothing else.”',\n",
       " 'm15': 'In thinking about\\xa0a palette, I have always been intrigued by\\xa0Les\\xa0Couleurs Le Corbusier—the line of historical paints, based on analyses of Le Corbusier’s homes and projects. When I first began\\xa0thinking about decor for the house, purist midcentury-modern visions like Perriand and Le Corbusier resonated most. (My friend Michael Bargo’s Instagram was ground zero.) I love color, and Le Corbusier was a rigorous color theorist. His unconventional and striking combinations (what he called Architectural Polychromy) were too inspiring (made my pulse race). In keeping with the original alternating-color fences, I decided on stripes for the garden walls.',\n",
       " 'm16': 'Enter decorator\\xa0Charles de Lisle, who is\\xa0working with me on the whole house. Over a distanced drink at Charles’s midcentury modern nearby, the decorator whipped through the LCLC deck, settling on a spray of blues with black, grays, and a mahogany—plucking a pale pink posy from a nearby bouquet to test his selections. What we picked would unify the color scheme of the house, inside and out. As Charles put it, “You will live with these colors every day. They will be part of your living room.” And bedroom, and dining room—but no pressure.',\n",
       " 'm17': 'Lauren reclines against the palette of Les Couleurs Le Corbusier paints, which she and decorator Charles de Lisle selected for the project. Handmade coffee mug by Katherine Krause. Pillows and throws from Summer House in Mill Valley. Pink silk robe by Olatz.',\n",
       " 'm18': 'AFTER: Looking to the back of the garden, princess chairs (from Pollen & Wool) bedeck the patio outside the master bedroom. Pillows and throw blanket from Summer House in Mill Valley.',\n",
       " 'm19': 'We planned the stripes to be of varying width and sequence. “It needs to be almost random,” Charles advised sternly. I started by matching the eight colors we selected with each rose. It was like trying on lipstick. Pumpkin Pie became a classic beauty with Vert Anglais Clair (celadon) and turned electric with Bleu Outremer Foncé (garish indigo). True to her name, Easy Does It was a peach with almost everyone at the party. Distant Drums, on the other hand, only danced with neutrals: Gris 59 (gray), Terre d’Ombre Brulée 59 (black), and Terre Sienne Brulée (mahogany). By the time the 20th rose was paired with LCLC swatches, the garden map was almost complete—and random.',\n",
       " 'm20': 'To sharpen up the rose beds in the now graphic space, and help the legacy varietals retain water, Jennifer and I added shaggy black mulch (also used at Sunnylands). Pink slate in back, where the garden wall continues, warmly glows rose against the cool Le Corbusier blues.',\n",
       " 'm21': 'A vintage bamboo garden set in the back garden (from Mudpie SF). Pillows and throws from Summer House in Mill Valley.',\n",
       " 'm22': 'Lauren admires a Maurice Utrillo rose. Named after an early to mid-20th-century French painter, she loved the fashion-like paint splatter effect on the crimson red petals. This breed was particularly hard to track down.',\n",
       " 'm23': 'A table laid for luncheon. Lauren found the John Salterini garden set at a garage sale in her Eichler neighborhood for $10.',\n",
       " 'm24': 'Nestled in a modernist building from 1900—typical of the architecture in Barcelona—this flat, when first found, had lovely details but was in need of an update. “The initial state of the project already told us a story,” says Noé Prades, the interior designer brought on to update the space. “The light, which came in through the living room, was very poetic. We knew that we wanted to create this same feeling in the rest of the apartment, and it was our objective to combine it with colors and textures.”',\n",
       " 'm25': 'The American couple who own the space, two artists and avid travelers, have called Barcelona home for many years (10 for him, 15 for her). As a teenager, one of the owners lived in Miami, where she was influenced by the Art Deco aesthetic, a launching point for the redesign. Interior designer Noé Prades (who designed the headboard) helped make their dreams come true. The wallpaper is by Ananbô.',\n",
       " 'm26': 'This was achieved by changing the layout and opening the space, which spreads over 818 square feet and is composed of two bedrooms and two bathrooms. The kitchen opens up to the dining room and living area with two big windows that give access to the terrace.',\n",
       " 'm27': 'BEFORE: The layout was completely changed to create bright and open spaces.',\n",
       " 'm28': 'AFTER: In the living room, the sofa and Pavilion AV5 lounge chairs (designed by Anderssen & Voll) by &Tradition sit on a Benuta rug. The Arco TV cabinet is by Noé Prades Studio.',\n",
       " 'm29': '“We are inspired by nature, and we create interiors that bring us closer to it,” Noé says. The concept for this project was no exception. It reflects the balance of nature and its colors through the different rooms, with blue as a symbol of water and green evoking flora and fauna, filling every space with life while providing a sense of calm and well-being.',\n",
       " 'm30': 'Noé played with materials like wood and Venato marble, and combined them with fresh hues, midcentury elements, and exotic touches like the Ananbô wallpapers with tropical motifs. Curved shapes bring femininity, exemplified in the Noé Prades Studio–designed arch-shaped doors in oak.',\n",
       " 'm31': 'In the dining room, the Coco chairs by Gubi surround the Volà table designed by Noé Prades Studio with a Pholc light fixture hanging above it.',\n",
       " 'm32': 'The tropical wallpaper by Ananbô contrasts with the wooden doors by Noé Prades Studio.',\n",
       " 'm33': '“We transformed and adapted the apartment to create an oasis where you can disconnect from the city hustle and bustle,” the interior designer shares. New carpentry and furniture were also part of the makeover, all of which were based on the ideas of “light, color, and rhythm” according to Noé.',\n",
       " 'm34': 'Visually bold, the bathrooms are filled with color—blue in one (where a wicker mirror adds texture) and pink in the primary (where Noé designed two midcentury-inspired mirrors with a wall lamp by Nuura between them to highlight their curved corners). Geometric tiles adorn the walls for a dynamic, contemporary, and surprising look.',\n",
       " 'm35': 'In the blue bathroom, the geometric tiles were made to measure and contrast with the curved mirror by Kave Home.',\n",
       " 'm36': 'In the pink bathroom, the lighting is by Nuura, the sinks are by Bathco, the tiles are bespoke, and the mirrors were designed by Noé Prades Studio.',\n",
       " 'm37': 'The last part of the apartment houses the made-to-measure kitchen decorated with green hues to contrast with wood details. Elegant and relaxed at the same time, the space features Venato marble, a material used in some pieces of furniture in the dining room (including the Volà table designed by Noé Prades Studio) and the living area, helping to unify the whole space.',\n",
       " 'm38': 'BEFORE: Through the transformation of this apartment, a terrace—accessible from the main living area—was created.',\n",
       " 'm39': 'AFTER: Noé Prades Studio designed all the pieces of furniture in the kitchen, where the home appliances are by SMEG.',\n",
       " 'm40': 'The green color was part of the original kitchen and one of the only elements that was kept from the previous iteration of the home.',\n",
       " 'm41': '“The atmosphere is fresh without forgetting about warmth,” Noé says. “We strove to design a space that protects its inhabitants with colors and forms that honor nature.”',\n",
       " 'm42': 'On his first visit, it took Michael Martin—one of the creative minds behind design studio OSKLO—two tries to find the private driveway of this property. “It was like A Midsummer Night’s Dream in the middle of the Hollywood Hills, as doves and robins hopped from wisps of bougainvillea and massive lemon trees dropped fruit in front of your eyes around this very forgettable 1990s house,” he recalls. “The house had to go, but the property was one of a kind and really unbeknownst to everyone.”',\n",
       " 'm43': 'Located a mile above the Sunset Strip, along one of the quieter roads of Los Angeles’s famed Bird Streets, the flat lot offers the utmost in privacy. Spread over 5,800 square feet on a single level, the new four-bedroom house gives a feeling of spaciousness, especially in the 13-foot-high great hall flanked by a central atrium with a centenarian olive tree.',\n",
       " 'm44': 'A light-filled room with a view of an olive tree from the late 1800s. The Pierre Jeanneret daybed was reupholstered in Cavallini olive pony hair from Edelman and the artwork, Yesterday’s Treasures (1989), is by Ed Ruscha.',\n",
       " 'm45': '“The house is a variation of whites, from the creamier white walls of stucco on the exterior and masonry walls to a lighter, powdery Decorator’s White (Benjamin Moore) on interior walls and within the atrium that makes it an extension of the interior living space,” says Arya Mohammadi Martin, cofounder of OSKLO. “We only used ultra-matte paints and surfaces, to the dismay of visitors that are often reprimanded for touching them by Michael,” he says, smiling. The kitchen was an inversion of this, with matte black cabinetry and blackened steel exhaust that carries over to the stained oak cabinet details in the bar and powder metal shelves in the main living area.',\n",
       " 'm46': 'Working together for the first time as a married couple on this personal project, the OSKLO duo had to match their different ideas and approaches to what the house should look and feel like. “I wanted poured concrete and more of an industrial finish, but Arya liked the Trousdale feel of all-white architecture that came to define the property,” Martin says.',\n",
       " 'm47': 'The main living room houses a comfortable custom-designed sofa by OSKLO, a bronze Rick Owens Alchemy Bench from Carpenters Workshop Gallery next to a Jean Prouvé daybed, and a collection of Pierre Jeanneret’s Chandigarh cane chairs. One of the bedrooms houses a pair of Milo Baughman chests of drawers from West Coast Modern LA, a kilim rug from Lawrence of La Brea and a midcentury-era, two-arm sconce from Stilnovo. These are just some of the gems that adorn the home.',\n",
       " 'm48': 'Each side of the custom bed was upholstered in Ralph Lauren cashmere, and the side tables were created with a pair of Milo Baughman chests of drawers from West Coast Modern LA. The white wool kilim rug is from Lawrence of La Brea; the midcentury two-arm sconce is from Stilnovo; and the untitled artwork, a self-portrait, is by Chinese painter Guo Jinyi.',\n",
       " 'm49': '“We have acquired many items through our travels, like an Oscar Niemeyer chair in Brazil or chunky stools in Japan,” Mohammadi Martin says. “We placed them in a way to make them feel part of a larger narrative. We find items that need some care and modernize them with updated upholstery and materials. There are also a lot of L.A. designers we pull from our inventory because we have so much.”',\n",
       " 'm50': '“A house is not a museum; it should emanate comfort and warmth in spaces that encourage conversation, inspiration and a desire to linger,” Martin adds.',\n",
       " 'm51': 'Mimicking L.A.’s midcentury architecture in a more monumental way, with angles inspired by Rudolph Schindler and Richard Neutra infused with voluminous ceilings and bespoke stonework, the house plays with different themes in the bedrooms (beachy or all-white, for example) while reflecting a sense of free-flowing, effortless unity among all the areas.',\n",
       " 'm52': 'According to the couple, designing a home is like writing a book: “Each room should connect a central story, with the occasional diversion in spaces like the powder room, where we did a stout custom sink in honed ceppo with an integrated shelf and mirror that fades into it ever so softly. We like to create visual experiences, so that if there were 30 people in one room, they would each sit somewhere different and experience a different visual.”',\n",
       " 'm53': 'At first, the prospect of outfitting and inhabiting a home composed entirely of hexagonal rooms seemed, well, daunting. But that was the challenge that powerhouse architect Lauren Rottet assumed when she purchased an idiosyncratic house in Montauk, New York, designed by the legendary modernist maestro George Nelson and his partner Gordon Chadwick. “Most designers are taught to think in right angles and rectangles,” says Rottet, the principal of Houston-based Rottet Studio, an international architecture and interior design firm with branches in New York and Los Angeles. “But after I divorced myself from that traditional academic thinking, I discovered the hexagon is really an amenable shape in design. What first seemed totally restricting ended up being completely liberating,” she adds.',\n",
       " 'm54': 'Rottet’s path to domestic bliss on the easternmost end of Long Island took a circuitous route. For years, California had been the focus of the architect’s search for a second home far removed from the blistering heat of summer in Texas. Then a fortuitous outing to a colleague’s home in the Hamptons—a place she had never visited, despite her extensive travels—shifted Rottet’s sights to the East Coast. “I was a little bored, so I decided to do some real estate snooping. I saw a listing for a George Nelson house in Montauk, which obviously caught my attention, and I arranged to see the house. Long story short, I fell in love with the place and bought it,” she recalls.',\n",
       " 'm55': 'In the main bedroom, an artwork by Andrew Brischler hangs above a cerused-oak headboard.',\n",
       " 'm56': 'The house has a peculiar history. Built in 1962 for Rudolph and Ethel Johnson, it is one of only a handful of full-scale residential projects authored by Nelson. In 1989, when the property was sold to owners who had no intention of restoring or preserving the original design, the Johnsons’ son, Richard, decided to build a near-exact replica of the shingled structure on a nearby lot, utilizing Nelson and Chadwick’s plans and specification as well as built-ins salvaged from the original structure. He also hired the same contractors his parents had worked with three decades earlier. Richard Johnson eventually sold the house to artists Rob Pruitt and Jonathan Horowitz, both serial home renovators, who implemented minor renovations before selling the abode to Rottet.',\n",
       " 'm57': '“This isn’t just a story about living graciously in an eccentric house,” Rottet insists. “This house belongs to the rich legacy of modernist design in the Hamptons. I’m so grateful to have the opportunity to be a responsible steward of this important piece of architectural history.”',\n",
       " 'm58': 'Structurally, the house was in fine shape when Rottet acquired it. Even Hurricane Sandy had only managed to dislodge a few of the cedar shingles. The architect’s early ministrations involved restoring and replacing a limited number of interior and exterior shingles, converting an erstwhile mechanical room into a guest room, laying new hardwood floors, and adding a sybaritic saltwater pool. Lest the Houston heat find its way to the Hamptons, the architect also installed air conditioning—a challenging exercise given that the house has no basement or attic.',\n",
       " 'm59': 'The real triumph of Rottet’s reimagining lies in the architect’s ability to honor the house’s midcentury roots while simultaneously infusing the home with a vivid contemporary spirit. Neither aggressively decorated (with a capital D) nor casually tossed together in the eclectic beach style so prevalent in the Hamptons, the home’s myriad hexagonal spaces pay homage to Nelson and Chadwick’s vision as well as the current owner’s gutsy, wide-ranging sensibility and incisive eye.',\n",
       " 'm60': 'The ultimate resource for design industry professionals, brought to you by the editors of Architectural Digest',\n",
       " 'm61': 'Original banquettes, bookcases, and other striking architectural details—notably the handsome floor-to-ceiling screen that defines the dining room—all mingle amicably with an array of vintage furnishings by such midcentury masters as Raymond Loewy, Franco Albini, and Paul McCobb; contemporary pieces designed by Rottet herself; and an art collection that boasts signature works by the likes of Larry Poons, Alexander Calder, and Kiki Smith. A classic Marshmallow sofa, designed by Nelson and his associate Irving Harper in 1956, naturally has pride of place in the living room.',\n",
       " 'm62': '“I can always find a spot for the things I love,” Rottet says of her generous but measured approach. “That’s the beauty of this incredible house. It has a foot in the past but it definitely celebrates the present and future. It’s living architecture.”',\n",
       " 'm63': 'To grow old gracefully in a home requires a few nonnegotiables: a single floor (no stairs!); clear sight lines to nature; and room for art, relatives, and friends collected across a lifetime. At least, that’s what two former Knoll executives asked New York City–based Architecture Research Office to construct on their 60-acre property in Bucks County, Pennsylvania. “I remember them saying they wanted their new home to be loftlike, with a kitchen and primary bedroom as the hub,” recalls Kim Yao, partner at ARO, who worked with another partner, Stephen Cassell, to orient and construct the 4,250-square-foot home an hour north of Philadelphia.',\n",
       " 'm64': 'Landscape architect Michael Boucher helped ARO orient the property to overlook the meadow and creek. Beyond the great room, a patio outfitted in Richard Schultz and Bertoia chairs provides two seating areas for taking in the view.',\n",
       " 'm65': 'The couple had encountered Cassell and Yao through their work on the Knoll flagship; ARO is also known for their restoration and expansion of the Rothko Chapel in Houston; the DIA Art Centers in Chelsea and Beacon, New York; and the Donald Judd Foundation Home + Studio in SoHo. Like those other projects, this private residence required a sense of intimacy but with specific areas for art and entertaining that would be easy to maintain. “This home is purely for them—it is not a symbol,” insists Yao.',\n",
       " 'm66': 'The owners’ desire to embrace the outdoors is evident as soon as one turns onto the gravel auto court, which wends over a creek and through a copse of trees until the historic barn, now painted charcoal, comes into view. A pool enclosed by a low-slung fieldstone wall, laid by local Amish craftspeople, sits on one side, with the walnut front door to the other. Similar stone walls, which stretch out from the glassy great room and pour into the interior here and there, add an organic texture to an otherwise ur-midcentury mix of glass, steel, and concrete.',\n",
       " 'm67': 'Knoll leather Brno chairs surround a Carlo Scarpa table. A David Weeks enameled metal lighting fixture seems suspended in the trees.',\n",
       " 'm68': 'Natural materials—a walnut front door, a fieldstone wall, a stone foyer—provide a smooth transition from the outdoors. A piece by Don Morris adds more texture with its use of folded comic books. A monk figure in a saffron robe stands guard.',\n",
       " 'm69': 'That delicious tension between old and new, intimate and grand, soft and austere carries through the gallery/hallway, where the couple’s collection of quirky weathervanes hangs on the wall. At one end lies the understated primary bedroom, functional and modest, with shelving for the couple’s colorful Roseville pottery, and an understated bathroom that places a window where others would have installed a mirror. “We tried to create moments that really connected to the outside,” notes Cassell.',\n",
       " 'm70': 'In the other direction down the gallery is the kitchen, whose galley reads as one massive freestanding structure, but which hides a discreet space for the messy work of cooking and entertaining. It floats in the same space as the dining and main living room, where a wood-burning fireplace mimics the stone walls outside and structural columns wrapped in Spinneybeck leather (a Knoll subsidiary) lend a softness to what is essentially a glass box showcasing a desirable collection of furniture. Two guest rooms await visitors.',\n",
       " 'm71': '“This house is the background for their life,” says Yao. “From any angle, they can see their art and their furniture. It tells the story of their life together.” As a magnet for three generations, no doubt this country forever home has many more stories to tell.'}"
      ]
     },
     "execution_count": 8,
     "metadata": {},
     "output_type": "execute_result"
    }
   ],
   "source": [
    "urls = ['https://www.architecturaldigest.com/story/lauren-goodman-rose-garden',\n",
    "        'https://www.architecturaldigest.com/story/midcentury-and-tropical-vibes-meet-in-this-barcelona-home',\n",
    "       'https://www.architecturaldigest.com/story/osklo-hollywood-hills-home',\n",
    "       'https://www.architecturaldigest.com/story/lauren-rottet-montauk-home',\n",
    "       'https://www.architecturaldigest.com/story/in-bucks-county-a-glassy-homage-to-florence-and-hans-knoll']\n",
    "\n",
    "ad_mcm = AD_scrape(urls, 'm')"
   ]
  },
  {
   "cell_type": "markdown",
   "metadata": {},
   "source": [
    "#### BHG"
   ]
  },
  {
   "cell_type": "code",
   "execution_count": 9,
   "metadata": {},
   "outputs": [],
   "source": [
    "# url = 'https://www.bhg.com/decorating/decorating-style/midcentury-modern/?slide=slide_434d4501-3327-4249-944d-a8b2bef642ff#slide_434d4501-3327-4249-944d-a8b2bef642ff'\n",
    "# html = requests.get(url)\n",
    "# soup = BeautifulSoup(html.content, 'lxml')\n",
    "\n",
    "# html.status_code"
   ]
  },
  {
   "cell_type": "code",
   "execution_count": 10,
   "metadata": {},
   "outputs": [],
   "source": [
    "# container = soup.findAll('p')"
   ]
  },
  {
   "cell_type": "code",
   "execution_count": 11,
   "metadata": {},
   "outputs": [],
   "source": [
    "urls = ['https://www.bhg.com/decorating/decorating-style/midcentury-modern/?slide=slide_e60301f4-f633-48ea-b612-b8a8243daab0#slide_e60301f4-f633-48ea-b612-b8a8243daab0',\n",
    "       'https://www.bhg.com/decorating/do-it-yourself/wall-art/midcentury-modern-tissue-paper-art/',\n",
    "       'https://www.bhg.com/decorating/makeovers/before-and-after/tour-this-midcentury-modern-home-with-a-bohemian-twist/',\n",
    "       'https://www.bhg.com/decorating/decorating-style/modern/colorful-palm-springs-showhouse/',\n",
    "       'https://www.bhg.com/decorating/decorating-style/modern/midcentury-modern-showhouse/']\n",
    "\n",
    "def BHG_scrape(urls, style):\n",
    "    '''scrape articles from better homes and gardens'''\n",
    "    bhg_scraped = {}\n",
    "    c = 1\n",
    "    for link in urls: \n",
    "        html = requests.get(link)\n",
    "        soup = BeautifulSoup(html.content, 'lxml')\n",
    "        container = soup.findAll('p')\n",
    "        paragraph = []\n",
    "        for i in range(len(container)):\n",
    "            clean = container[i].text.strip()\n",
    "            bhg_scraped.update({style + str(i): clean})\n",
    "            c += 1\n",
    "    return bhg_scraped"
   ]
  },
  {
   "cell_type": "code",
   "execution_count": 12,
   "metadata": {},
   "outputs": [],
   "source": [
    "bhg_mcm = BHG_scrape(urls, 'm')"
   ]
  },
  {
   "cell_type": "markdown",
   "metadata": {},
   "source": [
    "#### ElleDecor"
   ]
  },
  {
   "cell_type": "code",
   "execution_count": 14,
   "metadata": {},
   "outputs": [],
   "source": [
    "# url = 'https://www.elledecor.com/design-decorate/house-interiors/a31102258/wasco-reynolds-midcentury-california-home/'\n",
    "# html = requests.get(url)\n",
    "# soup = BeautifulSoup(html.content, 'lxml')\n",
    "\n",
    "# html.status_code"
   ]
  },
  {
   "cell_type": "code",
   "execution_count": 15,
   "metadata": {},
   "outputs": [],
   "source": [
    "# container = soup.findAll('div', class_ = 'article-body-content standard-body-content')\n",
    "# #container"
   ]
  },
  {
   "cell_type": "code",
   "execution_count": 16,
   "metadata": {},
   "outputs": [],
   "source": [
    "# article_text = container[0].findAll('p')\n",
    "# #article_text"
   ]
  },
  {
   "cell_type": "code",
   "execution_count": 17,
   "metadata": {},
   "outputs": [],
   "source": [
    "urls = ['https://www.elledecor.com/design-decorate/house-interiors/a31102258/wasco-reynolds-midcentury-california-home/',\n",
    "       'https://www.elledecor.com/design-decorate/house-interiors/a34862121/silvio-rech-lesley-carstens-south-africa-bungalow/']\n",
    "\n",
    "def ELLE_scrape(urls, style):\n",
    "    '''scrape articles from ElleDecor'''\n",
    "    elle_scraped = {}\n",
    "    c = 1\n",
    "    for link in urls: \n",
    "        html = requests.get(link)\n",
    "        soup = BeautifulSoup(html.content, 'lxml')\n",
    "        \n",
    "        container = soup.findAll('div', class_ = 'article-body-content standard-body-content')\n",
    "        cont = (container[0].findAll('p'))\n",
    "        paragraph = []\n",
    "        for i in range(len(cont)):\n",
    "            clean = cont[i].text.strip()\n",
    "            elle_scraped.update({style + str(c): clean})\n",
    "            c += 1\n",
    "    return elle_scraped"
   ]
  },
  {
   "cell_type": "code",
   "execution_count": 18,
   "metadata": {},
   "outputs": [],
   "source": [
    "elle_mcm = ELLE_scrape(urls, 'm')"
   ]
  },
  {
   "cell_type": "markdown",
   "metadata": {},
   "source": [
    "#### Dwell"
   ]
  },
  {
   "cell_type": "code",
   "execution_count": 19,
   "metadata": {},
   "outputs": [],
   "source": [
    "# url = 'https://www.dwell.com/home/mid-century-remodel-in-marin-county-6695884e'\n",
    "# html = requests.get(url)\n",
    "# soup = BeautifulSoup(html.content, 'lxml')\n",
    "\n",
    "# html.status_code"
   ]
  },
  {
   "cell_type": "code",
   "execution_count": 20,
   "metadata": {},
   "outputs": [],
   "source": [
    "# container = soup.findAll('p')"
   ]
  },
  {
   "cell_type": "code",
   "execution_count": 21,
   "metadata": {},
   "outputs": [],
   "source": [
    "urls = ['https://www.dwell.com/article/a-renovated-midcentury-gem-in-austin-776ce7b6',\n",
    "       'https://www.dwell.com/home/midcentury-modern-summer-home-fbbf2900',\n",
    "       'https://www.dwell.com/home/clyde-hill-mid-century-4573648a',\n",
    "       'https://www.dwell.com/article/midcentury-mash-up-6b12b153',\n",
    "       'https://www.dwell.com/home/south-tyrol-mid-century-96160b3c',\n",
    "       'https://www.dwell.com/home/mid-century-remodel-in-marin-county-6695884e',\n",
    "       'https://www.dwell.com/home/midcentury-makeover-c40efb7d']\n",
    "\n",
    "def Dwell_scrape(urls, style):\n",
    "    '''scrape articles from dwell'''\n",
    "    dwell_scraped = {}\n",
    "    c = 1\n",
    "    for link in urls: \n",
    "        html = requests.get(link)\n",
    "        soup = BeautifulSoup(html.content, 'lxml')\n",
    "        container = soup.findAll('p')\n",
    "        paragraph = []\n",
    "        for i in range(len(container)):\n",
    "            clean = container[i].text.strip()\n",
    "            dwell_scraped.update({style + str(c): clean})\n",
    "            c += 1\n",
    "    return dwell_scraped"
   ]
  },
  {
   "cell_type": "code",
   "execution_count": 22,
   "metadata": {},
   "outputs": [
    {
     "data": {
      "text/plain": [
       "{'m1': 'The midcentury cognoscenti in Austin, Texas, know where to spot the houses designed by a man named Arthur Dallas Stenger: dotted throughout a couple of neighborhoods south of the Colorado river, mainly on two streets in the hilly enclave of Rollingwood and another cluster in next-door Barton Hills. Their front elevations include a few hallmarks, like riverstone walls and clerestory windows that rise to meet canted or lightly gabled rooflines, and carports incorporated into the overall plan. Some even call A.D. Stenger the \"Eichler of Austin.\" The designer-builder’s 1964 house on Ridgewood Drive, however, has something extra going for it. Its roof is an undulating affair that rests lightly on its glass-and-steel frame, and the transparent central volume is bookended by symmetrical wings, fronted by riverstone walls, and all set atop a cantilevered concrete foundation.',\n",
       " 'm2': 'Subscribe to Dwell+ to get everything you already love about Dwell, plus exclusive home tours, video features, how-to guides, access to the Dwell archive, and more.',\n",
       " 'm3': 'You can cancel at any time.',\n",
       " 'm4': '© 2021 Dwell Life, Inc. All rights reserved.',\n",
       " 'm5': 'Rill Architects preserved this 1962 midcentury modern summer home located on Gibson Island, MD, retaining much of the vision by the original architect, the late Ulrich Franzen (a disciple of I.M. Pei). The home boasts a thin roofline and eight columns of weathering steel made from the original owner’s employer, Bethlehem Steel Corporation. This robust frame allows for a lack of load bearing exterior and interior walls, in which Franzen took the opportunity to incorporate a continuous band of glass that runs along the entire perimeter.',\n",
       " 'm6': 'When searching for a summer retreat, the current owners discovered the home along a wooded inland lot at the island’s highest point above the convergence of the Chesapeake Bay and the Magothy River. Over the years, the home underwent several renovations creating an introverted interior, with awkward walls and doors that closed spaces off from exquisite views. Rill focused their improvements on honoring the home’s relationship between indoors and out.',\n",
       " 'm7': \"Existing steel beams, glass walls and stone designed by Franzen were maintained while further opening the interior to accentuate the wooded property's natural beauty. Aside from the bedrooms and bathrooms, which are shielded by an interior front stone wall, Rill Architects turned the entire floor plan into an open layout, providing a perfect setting for the home's minimalist design.\",\n",
       " 'm8': 'The first-floor master bedroom was reoriented to take advantage of the view from the windows above a stone wall. Two first-level bathrooms were renovated, along with a complete overhaul of the kitchen. A new open staircase took the place of the existing elevator to the lower level and the indoor pool was removed to create a guest bathroom and bedroom/office with access to a semi-private patio. The family room fireplace wall was redesigned and the rear of the lower level was opened to the outdoors.',\n",
       " 'm9': 'Rill also restored the exterior while adding a new terrace and outdoor pool, further enhancing the connection between the indoors and outdoors—the essence of Franzen’s original concept.',\n",
       " 'm10': 'MidCentury Modern Summer Home in Gibson Island, MD',\n",
       " 'm11': 'Exterior Side View with Outdoor Pool and Patio',\n",
       " 'm12': 'Exterior Rear View with Outdoor Pool and Patio',\n",
       " 'm13': 'Interior Entry',\n",
       " 'm14': 'Interior Living Space and Fireplace',\n",
       " 'm15': 'Interior Living Space - Open Area',\n",
       " 'm16': 'Master Bedroom Entrance',\n",
       " 'm17': 'Master Bedroom',\n",
       " 'm18': 'Master Bedroom Entrance from Open Living Space',\n",
       " 'm19': 'Master Bath',\n",
       " 'm20': 'Dining Room and Seating Area',\n",
       " 'm21': 'Dining Area and Kitchen',\n",
       " 'm22': 'Kitchen',\n",
       " 'm23': 'Lower Level Guest Suite',\n",
       " 'm24': 'Exterior Rear View with Pool and Patio',\n",
       " 'm25': 'Exterior Front Entrance and Driveway',\n",
       " 'm26': 'Exterior Front and Side View',\n",
       " 'm27': '© 2021 Dwell Life, Inc. All rights reserved.',\n",
       " 'm28': 'This complete renovation of a mid-century home was an embrace of nostalgic ‘50s architecture and incorporation of elegant interiors. Adding a touch of art deco French inspiration, resulted in an eclectic vintage blend that provides an elevated yet light-hearted impression. The homeowner was in need of a complete reconfiguration, adding additional bedrooms and re-thinking the main living spaces.',\n",
       " 'm29': 'Mid-century, remodeled exterior',\n",
       " 'm30': 'Mid-century, floating entry stairs',\n",
       " 'm31': 'Mid-century, living room',\n",
       " 'm32': 'Mid-century, dining room',\n",
       " 'm33': 'Mid-century, updated kitchen',\n",
       " 'm34': 'Mid-century, breakfast nook',\n",
       " 'm35': 'Mid-century, master bedroom with a view',\n",
       " 'm36': 'Mid-century, master bathroom',\n",
       " 'm37': 'Mid-century, modern pool',\n",
       " 'm38': 'Mid-century, zen garden',\n",
       " 'm39': 'Mid-century sunsets',\n",
       " 'm40': '© 2021 Dwell Life, Inc. All rights reserved.',\n",
       " 'm41': 'San Francisco’s modernists were faced with the issue of building within a firmly established stylistic tradition—think bay windows and gingerbread. Henry Hill’s 1947 renovation of a 1908 Victorian tucked away on an alley in historic Russian Hill provides a remarkable response to the dilemma.',\n",
       " 'm42': 'Subscribe to Dwell+ to get everything you already love about Dwell, plus exclusive home tours, video features, how-to guides, access to the Dwell archive, and more.',\n",
       " 'm43': 'You can cancel at any time.',\n",
       " 'm44': '© 2021 Dwell Life, Inc. All rights reserved.',\n",
       " 'm45': '© 2021 Dwell Life, Inc. All rights reserved.',\n",
       " 'm46': 'Designed for a couple with two young boys, this project aims to create an open feeling with a smooth flow, warm elegance by way of refined materials and details, as well as much upgraded functions for family living. The original interior suffered from too many partitions which cut up the common areas, and a general gloominess resulted from walls completely clad in medium tone wood panels. All the old partitions and cladding were removed to create an open interior with soaring ceilings.',\n",
       " 'm47': 'The ceilings and perimeter walls, all painted a brilliant white, help accentuate the sense of space and lightness. An accent wall wrapped with warm walnut panels leads one from the entry hall up to the contiguous living and dining areas. Instead of an enclosed and claustrophobic galley, the partially open new kitchen with a sculpted volume anchors one corner of the great room. Abundance of windows and glass sliders connect the interior to the outdoors in both the front and the back of the house. Other highlights include a cozy breakfast nook and lots of built-in storage and a hidden desk.',\n",
       " 'm48': 'great room',\n",
       " 'm49': 'kitchen as a sculpted volume',\n",
       " 'm50': 'view of dining area from kitchen',\n",
       " 'm51': 'breakfast nook/homework station',\n",
       " 'm52': 'living room',\n",
       " 'm53': 'reading corner - living room',\n",
       " 'm54': 'walnut shelving and flip-down desk',\n",
       " 'm55': 'view of great room from hallway',\n",
       " 'm56': 'entry foyer and stairs',\n",
       " 'm57': 'view of entry',\n",
       " 'm58': '© 2021 Dwell Life, Inc. All rights reserved.',\n",
       " 'm59': 'The renovation of this this mid-century home, overlooking the Portland Yacht Club, incorporates a modern aesthetic while preserving its mid-century character, as well as improvements to the energy efficiency of the home.',\n",
       " 'm60': 'The new entry addition, introduces a light-filled, welcoming transition into the home.  White painted v-match ceilings replace the dated, swirled plaster throughout the home.',\n",
       " 'm61': 'A bright spacious kitchen opens up to the dining and living spaces where an enclosed U-shaped kitchen and hallway once were.  Beautiful new windows frame a picturesque view of the marina.  An additional row of windows follows the roofline, accentuating the loftiness of the space while bathing it in natural light.',\n",
       " 'm62': 'The master bedroom transforms into a proper master suite with a generous walk-in closet and a clean, contemporary bath.',\n",
       " 'm63': 'New sliding glass doors at the daylight basement level open the informal living room to the well-landscaped yard that features peaceful cascading ponds.',\n",
       " 'm64': 'Every opportunity was taken to improve on the thermal envelope of the house – spray foam was applied to the roof rafters while the ceiling was being replaced, and two inches of rigid insulation were added beneath the new cedar and cement board siding.  The additional insulation along with the new low-E windows and a heat pump greatly improve the comfort and efficiency of the home.',\n",
       " 'm65': 'Midcentury Modern at dawn',\n",
       " 'm66': 'Kitchen with a view',\n",
       " 'm67': \"The renovation of this midcentury home in Falmouth, Maine, incorporates a modern aesthetic while preserving the home's midcentury character, as well as making it more energy efficient. Now, the bright and spacious kitchen opens to the dining and living spaces. The additional row of windows follows the roofline and fills the space with natural light.\",\n",
       " 'm68': 'Entryway Addition',\n",
       " 'm69': '© 2021 Dwell Life, Inc. All rights reserved.'}"
      ]
     },
     "execution_count": 22,
     "metadata": {},
     "output_type": "execute_result"
    }
   ],
   "source": [
    "dwell_mcm = Dwell_scrape(urls, 'm')"
   ]
  },
  {
   "cell_type": "markdown",
   "metadata": {},
   "source": [
    "#### HGTV"
   ]
  },
  {
   "cell_type": "code",
   "execution_count": 23,
   "metadata": {},
   "outputs": [],
   "source": [
    "# url = 'https://www.hgtv.com/design/decorating/design-101/add-midcentury-modern-style-to-your-home-pictures'\n",
    "# html = requests.get(url)\n",
    "# soup = BeautifulSoup(html.content, 'lxml')\n",
    "\n",
    "# html.status_code"
   ]
  },
  {
   "cell_type": "code",
   "execution_count": 24,
   "metadata": {},
   "outputs": [],
   "source": [
    "# container = soup.findAll('div', attrs = {'class' : 'photo-viewer', 'data-module' : 'inline-gallery', 'data-gallery-title' : \"38 Bohemian Living Rooms You'll Love\", \n",
    "#                                         'id' : 'mod-inline-gallery-1'})\n",
    "# container = soup.findAll('div', class_ = 'o-PhotoGalleryPromo__a-Description asset-description')\n",
    "# slide = []\n",
    "# for i in range(len(container)): \n",
    "#     slide.append(container[i].findAll('p'))"
   ]
  },
  {
   "cell_type": "code",
   "execution_count": 25,
   "metadata": {},
   "outputs": [],
   "source": [
    "#Old function\n",
    "\n",
    "# def HGTV_scrape(urls):\n",
    "#     hgtv_scraped = []\n",
    "#     for link in urls: \n",
    "#         html = requests.get(link)\n",
    "#         soup = BeautifulSoup(html.content, 'lxml')\n",
    "#         container = soup.findAll('div', class_ = 'o-PhotoGalleryPromo__a-Description asset-description')\n",
    "#         for i in range(len(container)):\n",
    "#             clean = container[i].text.strip()\n",
    "#             hgtv_scraped.append(clean)\n",
    "#     return hgtv_scraped"
   ]
  },
  {
   "cell_type": "code",
   "execution_count": 26,
   "metadata": {},
   "outputs": [],
   "source": [
    "def HGTV_scrape(urls, style):\n",
    "    hgtv_scraped = {}\n",
    "    c = 1\n",
    "    for link in urls: \n",
    "        html = requests.get(link)\n",
    "        soup = BeautifulSoup(html.content, 'lxml')\n",
    "        container = soup.findAll('div', class_ = 'o-PhotoGalleryPromo__a-Description asset-description')\n",
    "        \n",
    "        for i in range(len(container)):\n",
    "            clean = container[i].text.strip()\n",
    "            hgtv_scraped.update({style + str(c): clean})\n",
    "            c += 1\n",
    "    return hgtv_scraped"
   ]
  },
  {
   "cell_type": "code",
   "execution_count": 27,
   "metadata": {},
   "outputs": [],
   "source": [
    "urls = ['https://www.hgtv.com/design/decorating/design-101/add-midcentury-modern-style-to-your-home-pictures',\n",
    "    'https://www.hgtv.com/design/decorating/design-101/midcentury-modern-ranch-renovation--pictures',\n",
    "    'https://www.hgtv.com/design/rooms/kitchens/midcentury-modern-kitchens-pictures',\n",
    "    'https://www.hgtv.com/design/remodel/interior-remodel/design-a-midcentury-modern-space-pictures',\n",
    "    'https://www.hgtv.com/design/decorating/design-101/15-ways-to-give-your-rooms-midcentury-modern-mojo-pictures',\n",
    "    'https://www.hgtv.com/design/decorating/design-101/bringing-classic-midcentury-modern-touches-to-your-home-pictures']\n",
    "\n",
    "hgtv_mcm = HGTV_scrape(urls, 'm')"
   ]
  },
  {
   "cell_type": "code",
   "execution_count": 28,
   "metadata": {},
   "outputs": [],
   "source": [
    "#hgtv_mcm"
   ]
  },
  {
   "cell_type": "markdown",
   "metadata": {},
   "source": [
    "### Boho Chic"
   ]
  },
  {
   "cell_type": "markdown",
   "metadata": {},
   "source": [
    "#### Architectual Digest"
   ]
  },
  {
   "cell_type": "code",
   "execution_count": 29,
   "metadata": {},
   "outputs": [],
   "source": [
    "urls = ['https://www.architecturaldigest.com/story/josh-greene-brentwood-house',\n",
    "       'https://www.architecturaldigest.com/story/inside-fashion-designer-ulla-johnsons-bohemian-brownstone']\n",
    "ad_boho = AD_scrape(urls, 'b')"
   ]
  },
  {
   "cell_type": "code",
   "execution_count": 30,
   "metadata": {},
   "outputs": [],
   "source": [
    "url = 'https://www.architecturaldigest.com/gallery/bring-on-the-bedroom-drama-with-a-rattan-bed'\n",
    "html = requests.get(url)\n",
    "soup = BeautifulSoup(html.content, 'lxml')"
   ]
  },
  {
   "cell_type": "code",
   "execution_count": 31,
   "metadata": {},
   "outputs": [],
   "source": [
    "container = soup.findAll('div', class_ = 'content-chunks')"
   ]
  },
  {
   "cell_type": "code",
   "execution_count": 32,
   "metadata": {},
   "outputs": [],
   "source": [
    "clever_boho = []\n",
    "c = 1\n",
    "cont = container[0].findAll('p')\n",
    "for i in range(len(cont)):\n",
    "    clean = cont[i].text.strip()\n",
    "    clever_bohod = {'b' + str(c): clean}\n",
    "    c += 1"
   ]
  },
  {
   "cell_type": "markdown",
   "metadata": {},
   "source": [
    "#### ElleDecor"
   ]
  },
  {
   "cell_type": "markdown",
   "metadata": {},
   "source": [
    "Unfortunately, these next ElleDecor articles don't follow the same structure as the ones above. This means they'll have to be scraped individually instead of using a funtion. "
   ]
  },
  {
   "cell_type": "code",
   "execution_count": 34,
   "metadata": {},
   "outputs": [],
   "source": [
    "url = 'https://www.elledecor.com/design-decorate/house-interiors/a18930010/kathryn-ireland-bohemian-decor-santa-monica-homes/'\n",
    "html = requests.get(url)\n",
    "soup= BeautifulSoup(html.content, 'lxml')"
   ]
  },
  {
   "cell_type": "code",
   "execution_count": 35,
   "metadata": {},
   "outputs": [],
   "source": [
    "container = soup.findAll('div', class_ = 'article-body longform-body')\n",
    "elle_boho_2 = []\n",
    "c = 1\n",
    "cont = container[0].findAll('p')\n",
    "for i in range(len(cont)):\n",
    "    clean = cont[i].text.strip()\n",
    "    elle_boho2 = {'b' + str(c): clean}\n",
    "    c += 1"
   ]
  },
  {
   "cell_type": "code",
   "execution_count": 36,
   "metadata": {},
   "outputs": [],
   "source": [
    "url = 'https://www.elledecor.com/design-decorate/trends/g33219844/the-edit-chic-boho-items-that-channel-your-inner-wanderlust-walmart/'\n",
    "html = requests.get(url)\n",
    "soup= BeautifulSoup(html.content, 'lxml')"
   ]
  },
  {
   "cell_type": "code",
   "execution_count": 37,
   "metadata": {},
   "outputs": [],
   "source": [
    "container = soup.findAll('div', class_ = 'listicle-body-content')\n",
    "cont = container[0].findAll('p')\n",
    "elle_boho_3 = []\n",
    "c = 1\n",
    "for i in range(len(cont)):\n",
    "    clean = cont[i].text.strip()\n",
    "    elle_boho3 = {'b' + str(c): clean}\n",
    "    c += 1"
   ]
  },
  {
   "cell_type": "code",
   "execution_count": 38,
   "metadata": {},
   "outputs": [],
   "source": [
    "url = 'https://www.elledecor.com/shopping/a26098714/the-inside-victoria-smith-collaboration/'\n",
    "html = requests.get(url)\n",
    "soup= BeautifulSoup(html.content, 'lxml')"
   ]
  },
  {
   "cell_type": "code",
   "execution_count": 39,
   "metadata": {},
   "outputs": [],
   "source": [
    "container = soup.findAll('div', class_='standard-body')\n",
    "c =1\n",
    "cont = container[0].findAll('p')\n",
    "for i in range(len(cont)):\n",
    "    clean = cont[i].text.strip()\n",
    "    elle_boho4 = {'b' + str(c): clean}\n",
    "    c += 1"
   ]
  },
  {
   "cell_type": "code",
   "execution_count": 40,
   "metadata": {},
   "outputs": [],
   "source": [
    "url = 'https://www.elledecor.com/design-decorate/house-interiors/a34886814/natasha-baradaran-santa-monica-house/'\n",
    "html = requests.get(url)\n",
    "soup= BeautifulSoup(html.content, 'lxml')"
   ]
  },
  {
   "cell_type": "code",
   "execution_count": 41,
   "metadata": {},
   "outputs": [],
   "source": [
    "container = soup.findAll('div', class_='standard-body')\n",
    "c = 1\n",
    "cont = container[0].findAll('p')\n",
    "for i in range(len(cont)):\n",
    "    clean = cont[i].text.strip()\n",
    "    elle_boho5 = {'b' + str(c): clean}\n",
    "    c += 1"
   ]
  },
  {
   "cell_type": "code",
   "execution_count": 42,
   "metadata": {},
   "outputs": [],
   "source": [
    "url = 'https://www.elledecor.com/design-decorate/room-ideas/g25619140/eclectic-bohemian-kitchens/'\n",
    "html = requests.get(url)\n",
    "soup= BeautifulSoup(html.content, 'lxml')\n",
    "\n",
    "container = soup.findAll('main', class_='site-content')\n",
    "c = 1\n",
    "cont = container[0].findAll('p')\n",
    "for i in range(len(cont)):\n",
    "    clean = cont[i].text.strip()\n",
    "    elle_boho6 = {'b' + str(c): clean}\n",
    "    c += 1"
   ]
  },
  {
   "cell_type": "code",
   "execution_count": 43,
   "metadata": {},
   "outputs": [
    {
     "data": {
      "text/plain": [
       "{'b29': 'Want more ELLE Decor? Get Instant Access!'}"
      ]
     },
     "execution_count": 43,
     "metadata": {},
     "output_type": "execute_result"
    }
   ],
   "source": [
    "elle_boho2"
   ]
  },
  {
   "cell_type": "markdown",
   "metadata": {},
   "source": [
    "#### BHG"
   ]
  },
  {
   "cell_type": "code",
   "execution_count": 44,
   "metadata": {},
   "outputs": [],
   "source": [
    "urls = ['https://www.bhg.com/decorating/decorating-style/bohemian-decor-ideas-281474979538765/',\n",
    "       'https://www.bhg.com/decorating/decorating-style/flea-market/eclectic-global-vintage-style/',\n",
    "       'https://www.bhg.com/decorating/makeovers/retro-bohemian-home-tour/',\n",
    "       'https://www.bhg.com/decorating/decorating-style/bohemian-decor-ideas-281474979538765/']\n",
    "\n",
    "bhg_boho = BHG_scrape(urls, 'b')"
   ]
  },
  {
   "cell_type": "markdown",
   "metadata": {},
   "source": [
    "#### Dwell "
   ]
  },
  {
   "cell_type": "code",
   "execution_count": 45,
   "metadata": {
    "scrolled": true
   },
   "outputs": [
    {
     "data": {
      "text/plain": [
       "{'b1': \"Designer curated, light and airy, architectural home between Abbot Kinney and the Beach, on quiet side of Cabrillo, steps away from eateries and shopping. A gentle entry fountain leads to a voluminous living room with grand modern chandelier, fireplace, and rich walnut millwork throughout downstairs level. Gourmet Chef's Kitchen. Dining room feels like a high-end restaurant. Downstairs patio beyond Fleetwood sliding doors is a beautiful extension of living area. Dramatic staircase leads to second story with two generous bedrooms, a wrap-around corridor, full bath, and a laundry room. Entire third story is a luxurious master suite, with a 15-ft glass ceiling in the bedroom with Velux skylights that open. See the stars at night through the ceiling or cover the skylights with the automatic shades. A huge dressing area/hangout space leads to a giant walk-in closet, and a sumptuous spa-like bathroom with sexy shower and oversized bathtub. Outside the master bedroom is a spacious deck with fireplace and fountain. On the top level is an enormous rooftop deck with firepit and plenty of space to accommodate a large group. In total, approximately 1,700 SqFt of usable outdoor space. Additional features include built-in BBQ, in-wall speakers, automated solar shades, outdoor surfer shower, 2-car garage with additional secure parking space, and gorgeous mature trees and planters throughout. A unique property, not to be missed.\",\n",
       " 'b2': '© 2021 Dwell Life, Inc. All rights reserved.',\n",
       " 'b3': \"This home in the Creston-Kenilworth area of SE Portland; a 1959 classic that was just sitting pretty, was waiting for an artist's touch.  A lovely midcentury blank slate to work with.  The couple hired bright designlab to help collaborate on a full kitchen plan and design - one that would showcase Jeff Hulme's original pottery and one that would keep the growing family together in the kitchen during mealtime.  The finished product has a bohemian, handcrafted look, with custom designed open shelving of steel and oak, cork floors, and navy cabinetry with cut out handles to show off the ApplePly. Every drawer has a purpose, and the rest, is truly an art display.\",\n",
       " 'b4': '© 2021 Dwell Life, Inc. All rights reserved.',\n",
       " 'b5': 'A recently listed home in Los Angeles embraces its hillside location with rambling walkways that unfold from the street. Located in the Silver Lake neighborhood, the .25-acre property is marked only by a detached garage at the end of a cul-de-sac, with stairs and paths connecting the main house with a sparkling pool and guesthouse at the bottom of the lot. Inside, a chic interior renovation by L.A. design house Nickey-Kehoe offers warm colors and wood tones mixed with starkly white spaces.',\n",
       " 'b6': 'A gate from the hilltop garage leads down to the main house. Additional paths lead around the house and down to a green-roofed guesthouse\\xa0designed by local architect John Umbanhower.',\n",
       " 'b7': 'Inside, an entryway leads down into the sunlit living area. The interior renovation was led by Los Angeles–based designers\\xa0Todd Nickey and Amy Kehoe of Nickey-Kehoe.',\n",
       " 'b8': \"Offering nearly 3,000 square feet of living space, the two-story main house features three bedrooms and four full bathrooms. The sunlit main level offers numerous picture windows overlooking the lush yard and Silver Lake's Ivanhoe Reservoir. Also on the main level, the master suite features a small seating area and covered balcony, along with a clawfoot tub in the en suite bathroom. Downstairs, a sunny family room offers an additional space to relax, while a timber bar top provides an expansive spot to work.\",\n",
       " 'b9': 'Another view of the living area reveals the large picture window at one end.',\n",
       " 'b10': 'French doors lead out to a porch and down to the poolside deck.',\n",
       " 'b11': 'Near the main entrance, another dining area features built-in seating along a bay window. Additional built-in cabinetry flank both sides of the doorway.',\n",
       " 'b12': 'Opposite from the dining area the brightly lit kitchen features colored cabinetry and wood countertops.',\n",
       " 'b13': 'A large pass-through connects the kitchen with a smaller breakfast area on the other side.',\n",
       " 'b14': 'Outside, multiple patios and a poolside deck await. Leading from the back porch, yet more stairs and walkways lead down past a hot tub to the pool and guesthouse, which features an additional bedroom and full bathroom. A small lawn, vegetable beds, and fruit trees round out the landscaping. Keep scrolling to see more of the property, currently listed for $3,750,000.',\n",
       " 'b15': 'In the master bedroom, a large picture window frames a view of the surrounding hills.',\n",
       " 'b16': 'The master bedroom also offers a small sitting area and a private outdoor area.',\n",
       " 'b17': 'The master bathroom features a clawfoot tub, custom vanity, and glass-walled shower. A skylight illuminates the space from above.',\n",
       " 'b18': 'A look at one of the two secondary bedrooms.',\n",
       " 'b19': 'One of the homes four full bathrooms.',\n",
       " 'b20': 'A look at the third bedroom downstairs.',\n",
       " 'b21': 'Barn-style doors divide the bedroom from the family room and office.',\n",
       " 'b22': 'Pieces of timber run along a wall to create an expansive work area.',\n",
       " 'b23': 'Around a corner, the sunny family room offers another place to relax.',\n",
       " 'b24': 'Outside, a large rear patio is accessible from the living room and kitchen.',\n",
       " 'b25': 'In front of the home, several paths join at stairs that lead up to the street. The lower level of the detached garage doubles as a studio space.',\n",
       " 'b26': \"Inside, the partially finished structure is currently used as a potter's studio and offers several storage areas.\",\n",
       " 'b27': 'A view looking over vegetable beds shows the pool and guesthouse down below, as well as the Ivanhoe Reservoir and Hollywood Hills in the distance.',\n",
       " 'b28': 'The pool is surrounded by a large deck.',\n",
       " 'b29': 'The interior of the guesthouse features a wood-clad ceiling that extends to form an overhang.',\n",
       " 'b30': 'Another view of the pool area shows a lawn along one side. A terraced area between the pool and main house contains several fruit trees.',\n",
       " 'b31': 'The two-level home follows the sloping lot with multiple patios, decks, and porches to enjoy the outdoors.',\n",
       " 'b32': '2503 Silver Lake Terrace in Los Angeles, California, is currently listed for $3,750,000 by the Tracy Do Team at Compass.',\n",
       " 'b33': 'Know of a home for sale or rent that should be featured on Dwell.com? Find out how to submit to Dwell.',\n",
       " 'b34': 'From midcentury classics to the best contemporary spaces for sale, see the latest listings for modern homes on the market around the world.',\n",
       " 'b35': '© 2021 Dwell Life, Inc. All rights reserved.'}"
      ]
     },
     "execution_count": 45,
     "metadata": {},
     "output_type": "execute_result"
    }
   ],
   "source": [
    "urls = ['https://www.dwell.com/home/venice-bohemian-d2b7d91a',\n",
    "       'https://www.dwell.com/home/bohemian-modern-kitchen-604f9984',\n",
    "       'https://www.dwell.com/article/silver-lake-bohemian-renovation-nickey-kehoe-los-angeles-real-estate-9bd26c42']\n",
    "\n",
    "dwell_boho = Dwell_scrape(urls,'b')\n",
    "dwell_boho"
   ]
  },
  {
   "cell_type": "markdown",
   "metadata": {},
   "source": [
    "#### HGTV"
   ]
  },
  {
   "cell_type": "code",
   "execution_count": 46,
   "metadata": {},
   "outputs": [],
   "source": [
    "urls = ['https://www.hgtv.com/design/decorating/design-101/bohemian-kid-rooms-pictures',\n",
    "       'https://www.hgtv.com/design/decorating/design-101/bohemian-living-rooms-pictures'\n",
    "       'https://www.hgtv.com/design/decorating/design-101/bohemian-bedrooms-pictures',\n",
    "       'https://www.hgtv.com/profiles/professionals/natalie-myers/bright-bohemian-inspired-home-in-calabasas-california-pictures',\n",
    "       'https://www.hgtv.com/profiles/professionals/Lexi-Grace-Designs/bohemian-hainsworth-and-co-salon-with-glam-gold-touches-pictures']\n",
    "hgtv_boho = HGTV_scrape(urls,'b')"
   ]
  },
  {
   "cell_type": "markdown",
   "metadata": {},
   "source": [
    "### Farmhouse"
   ]
  },
  {
   "cell_type": "markdown",
   "metadata": {},
   "source": [
    "#### Architectual Digest"
   ]
  },
  {
   "cell_type": "code",
   "execution_count": 47,
   "metadata": {},
   "outputs": [],
   "source": [
    "urls = ['https://www.architecturaldigest.com/story/sam-page-pacific-palisades-home',\n",
    "       'https://www.architecturaldigest.com/story/casey-wilson-los-angeles-home']\n",
    "\n",
    "ad_farm = AD_scrape(urls,'f')\n",
    "#ad_farm"
   ]
  },
  {
   "cell_type": "markdown",
   "metadata": {},
   "source": [
    "#### ElleDecor"
   ]
  },
  {
   "cell_type": "code",
   "execution_count": 48,
   "metadata": {},
   "outputs": [],
   "source": [
    "url = 'https://www.elledecor.com/design-decorate/trends/g32338857/farmhouse-living-room/'\n",
    "html = requests.get(url)\n",
    "soup = BeautifulSoup(html.content, 'lxml')"
   ]
  },
  {
   "cell_type": "code",
   "execution_count": 50,
   "metadata": {},
   "outputs": [],
   "source": [
    "container = soup.findAll('div', class_ = 'listicle-body')\n",
    "cont = container[0].findAll('p')\n",
    "c = 1\n",
    "for i in range(len(cont)):\n",
    "        clean = cont[i].text.strip()\n",
    "        elle_farm1 = {'f' + str(c): clean}\n",
    "        c += 1\n",
    "#elle_farm"
   ]
  },
  {
   "cell_type": "markdown",
   "metadata": {},
   "source": [
    "#### BHG"
   ]
  },
  {
   "cell_type": "code",
   "execution_count": 51,
   "metadata": {},
   "outputs": [],
   "source": [
    "urls = ['https://www.bhg.com/farmhouse-table-finds-to-fit-the-whole-family/',\n",
    "       'https://www.bhg.com/decorating/decorating-style/farmhouse-fabrics-281474979509404/',\n",
    "       'https://www.bhg.com/decorating/decorating-style/fabulous-farmhouse-mudrooms/',\n",
    "       'https://www.bhg.com/decorating/makeovers/family-modern-farmhouse-tour/',\n",
    "       'https://www.bhg.com/decorating/decorating-style/country/farmhouse-bedroom-ideas/',\n",
    "       'https://www.bhg.com/decorating/decorating-style/country/farmhouse-wall-decor/',\n",
    "       'https://www.bhg.com/kitchen/styles/country/decorate-a-farmhouse-kitchen/',\n",
    "       'https://www.bhg.com/bathroom/remodeling/makeover/farmhouse-master-bath-makeover/',\n",
    "       'https://www.bhg.com/these-farmhouse-finds-will-warm-up-your-bedroom/',\n",
    "       'https://www.bhg.com/decorating/decorating-style/modern-farmhouse-decor/',\n",
    "       'https://www.bhg.com/decorating/decorating-style/country/farmhouse-living-room-ideas/',\n",
    "       'https://www.bhg.com/decorating/makeovers/farmhouse-style-living-room/',\n",
    "       'https://www.bhg.com/decorating/makeovers/antique-modern-farmhouse-design/',\n",
    "       'https://www.bhg.com/farmhouse-chic-walmart-finds/',\n",
    "       'https://www.bhg.com/decorating/makeovers/farmhouse-vintage-ranch-house-design/']\n",
    "\n",
    "bhg_farm = BHG_scrape(urls,'f')"
   ]
  },
  {
   "cell_type": "markdown",
   "metadata": {},
   "source": [
    "#### Dwell"
   ]
  },
  {
   "cell_type": "code",
   "execution_count": 52,
   "metadata": {},
   "outputs": [],
   "source": [
    "urls = ['https://www.dwell.com/article/texas-farmhouse-patrick-ousey-aa57de8c',\n",
    "       'https://www.dwell.com/article/a-maine-farmhouse-built-with-salvaged-materials-e6aa4fc4',\n",
    "       'https://www.dwell.com/article/modern-farmhouses-a9bf6970']\n",
    "\n",
    "dwell_farm = Dwell_scrape(urls,'f')"
   ]
  },
  {
   "cell_type": "markdown",
   "metadata": {},
   "source": [
    "#### HGTV Magazine"
   ]
  },
  {
   "cell_type": "code",
   "execution_count": 53,
   "metadata": {},
   "outputs": [],
   "source": [
    "# def HGTV_scrape(urls, style):\n",
    "#     hgtv_scraped = {}\n",
    "\n",
    "#     for c,link in enumerate(urls): \n",
    "#         html = requests.get(link)\n",
    "#         soup = BeautifulSoup(html.content, 'lxml')\n",
    "#         container = soup.findAll('div', class_ = 'o-PhotoGalleryPromo__a-Description asset-description')\n",
    "#         paragraph = []\n",
    "#         for i in range(len(container)):\n",
    "#             clean = container[i].text.strip()\n",
    "#             paragraph.append(clean)\n",
    "#             combined_text = ' '.join(paragraph)\n",
    "#         hgtv_scraped.update({style + str(c): combined_text})\n",
    "#     return hgtv_scraped"
   ]
  },
  {
   "cell_type": "code",
   "execution_count": 54,
   "metadata": {
    "scrolled": true
   },
   "outputs": [],
   "source": [
    "urls = ['https://www.hgtv.com/design/rooms/living-and-dining-rooms/farmhouse-living-room-designs-pictures',\n",
    "       'https://www.hgtv.com/shows/farmhouse-fixer/create-farmhouse-style-pictures',\n",
    "       'https://www.hgtv.com/design/rooms/living-and-dining-rooms/farmhouse-dining-room-ideas-pictures',\n",
    "       'https://www.hgtv.com/design/rooms/bathrooms/farmhouse-bathroom-design-ideas-pictures',\n",
    "       'https://www.hgtv.com/design/decorating/design-101/rustic-farmhouse-designs-pictures']\n",
    "\n",
    "hgtv_farm = HGTV_scrape(urls, 'f')"
   ]
  },
  {
   "cell_type": "markdown",
   "metadata": {},
   "source": [
    "#### Combining Scraped Lists"
   ]
  },
  {
   "cell_type": "code",
   "execution_count": 56,
   "metadata": {},
   "outputs": [],
   "source": [
    "columns = ['text']\n",
    "def create_df(dictionaries):\n",
    "    all_df = pd.DataFrame()\n",
    "    for d in dictionaries: \n",
    "        df = pd.DataFrame.from_dict(d, orient = 'index', columns = columns).reset_index()\n",
    "        all_df = all_df.append(df)\n",
    "    return all_df"
   ]
  },
  {
   "cell_type": "code",
   "execution_count": 57,
   "metadata": {},
   "outputs": [],
   "source": [
    "dicts = [ad_farm, dwell_farm, hgtv_farm, elle_farm1, bhg_farm, ad_mcm, dwell_mcm, hgtv_mcm, elle_mcm, bhg_mcm, \n",
    "        clever_bohod, dwell_boho, hgtv_boho, bhg_boho, ad_boho, elle_boho2, elle_boho3, elle_boho4, elle_boho5, elle_boho6]\n",
    "\n",
    "data = create_df(dicts)"
   ]
  },
  {
   "cell_type": "code",
   "execution_count": 58,
   "metadata": {
    "scrolled": true
   },
   "outputs": [
    {
     "data": {
      "text/html": [
       "<div>\n",
       "<style scoped>\n",
       "    .dataframe tbody tr th:only-of-type {\n",
       "        vertical-align: middle;\n",
       "    }\n",
       "\n",
       "    .dataframe tbody tr th {\n",
       "        vertical-align: top;\n",
       "    }\n",
       "\n",
       "    .dataframe thead th {\n",
       "        text-align: right;\n",
       "    }\n",
       "</style>\n",
       "<table border=\"1\" class=\"dataframe\">\n",
       "  <thead>\n",
       "    <tr style=\"text-align: right;\">\n",
       "      <th></th>\n",
       "      <th>index</th>\n",
       "      <th>text</th>\n",
       "    </tr>\n",
       "  </thead>\n",
       "  <tbody>\n",
       "    <tr>\n",
       "      <th>0</th>\n",
       "      <td>f1</td>\n",
       "      <td>When actor Sam Page and his wife Cassidy Ellio...</td>\n",
       "    </tr>\n",
       "    <tr>\n",
       "      <th>1</th>\n",
       "      <td>f2</td>\n",
       "      <td>The couple ultimately decided on Pacific Palis...</td>\n",
       "    </tr>\n",
       "    <tr>\n",
       "      <th>2</th>\n",
       "      <td>f3</td>\n",
       "      <td>The kitchen remodel was the hardest part of th...</td>\n",
       "    </tr>\n",
       "    <tr>\n",
       "      <th>3</th>\n",
       "      <td>f4</td>\n",
       "      <td>To modernize the kitchen and bathrooms, as wel...</td>\n",
       "    </tr>\n",
       "    <tr>\n",
       "      <th>4</th>\n",
       "      <td>f5</td>\n",
       "      <td>Elliott describes her personal design style as...</td>\n",
       "    </tr>\n",
       "    <tr>\n",
       "      <th>...</th>\n",
       "      <td>...</td>\n",
       "      <td>...</td>\n",
       "    </tr>\n",
       "    <tr>\n",
       "      <th>0</th>\n",
       "      <td>b29</td>\n",
       "      <td>Want more ELLE Decor? Get Instant Access!</td>\n",
       "    </tr>\n",
       "    <tr>\n",
       "      <th>0</th>\n",
       "      <td>b9</td>\n",
       "      <td>A Turkish towel is one of the chicest textiles...</td>\n",
       "    </tr>\n",
       "    <tr>\n",
       "      <th>0</th>\n",
       "      <td>b9</td>\n",
       "      <td>Removable Wallpaper, $59Shop Now</td>\n",
       "    </tr>\n",
       "    <tr>\n",
       "      <th>0</th>\n",
       "      <td>b5</td>\n",
       "      <td>“We didn’t want the house to take itself so se...</td>\n",
       "    </tr>\n",
       "    <tr>\n",
       "      <th>0</th>\n",
       "      <td>b34</td>\n",
       "      <td>This funky kitchen from Logan Killen Interiors...</td>\n",
       "    </tr>\n",
       "  </tbody>\n",
       "</table>\n",
       "<p>677 rows × 2 columns</p>\n",
       "</div>"
      ],
      "text/plain": [
       "   index                                               text\n",
       "0     f1  When actor Sam Page and his wife Cassidy Ellio...\n",
       "1     f2  The couple ultimately decided on Pacific Palis...\n",
       "2     f3  The kitchen remodel was the hardest part of th...\n",
       "3     f4  To modernize the kitchen and bathrooms, as wel...\n",
       "4     f5  Elliott describes her personal design style as...\n",
       "..   ...                                                ...\n",
       "0    b29          Want more ELLE Decor? Get Instant Access!\n",
       "0     b9  A Turkish towel is one of the chicest textiles...\n",
       "0     b9                   Removable Wallpaper, $59Shop Now\n",
       "0     b5  “We didn’t want the house to take itself so se...\n",
       "0    b34  This funky kitchen from Logan Killen Interiors...\n",
       "\n",
       "[677 rows x 2 columns]"
      ]
     },
     "execution_count": 58,
     "metadata": {},
     "output_type": "execute_result"
    }
   ],
   "source": [
    "data"
   ]
  },
  {
   "cell_type": "code",
   "execution_count": 59,
   "metadata": {},
   "outputs": [],
   "source": [
    "#data['index'] = [x.rstrip(x[-1]) for x in data['index']]"
   ]
  },
  {
   "cell_type": "code",
   "execution_count": 60,
   "metadata": {
    "scrolled": true
   },
   "outputs": [],
   "source": [
    "data.set_index('index', inplace=True)"
   ]
  },
  {
   "cell_type": "code",
   "execution_count": 61,
   "metadata": {},
   "outputs": [],
   "source": [
    "data.to_pickle('paragraphed_corpus.pkl')"
   ]
  },
  {
   "cell_type": "markdown",
   "metadata": {},
   "source": [
    "### Additional Webscraping - Round 2"
   ]
  },
  {
   "cell_type": "markdown",
   "metadata": {},
   "source": [
    "#### House Beaufiful"
   ]
  },
  {
   "cell_type": "code",
   "execution_count": 62,
   "metadata": {},
   "outputs": [],
   "source": [
    "url = 'https://www.housebeautiful.com/design-inspiration/house-tours/a35940421/melanie-turner-lewis-buck-crook-atlanta-home/'\n",
    "html = requests.get(url)\n",
    "soup = BeautifulSoup(html.text, 'lxml')"
   ]
  },
  {
   "cell_type": "code",
   "execution_count": 63,
   "metadata": {},
   "outputs": [],
   "source": [
    "container = soup.findAll('div', class_ = 'article-body-content standard-body-content')"
   ]
  },
  {
   "cell_type": "code",
   "execution_count": 64,
   "metadata": {},
   "outputs": [],
   "source": [
    "cont = container[0].findAll('p', class_ = 'body-text')"
   ]
  },
  {
   "cell_type": "code",
   "execution_count": 67,
   "metadata": {},
   "outputs": [],
   "source": [
    "def HouseBeautifulScrape(urls, style): \n",
    "    hs_scraped = {}\n",
    "    c = 1\n",
    "    for link in urls: \n",
    "        html = requests.get(link)\n",
    "        soup = BeautifulSoup(html.content, 'lxml')\n",
    "    \n",
    "        container = soup.findAll('div', class_ = 'article-body-content standard-body-content')\n",
    "        cont = container[0].findAll('p', class_ = 'body-text')\n",
    "                \n",
    "        for i in range(len(cont)):\n",
    "            clean = cont[i].text.strip()\n",
    "            hs_scraped.update({style + str(c): clean})\n",
    "            c += 1\n",
    "    return hs_scraped"
   ]
  },
  {
   "cell_type": "code",
   "execution_count": 68,
   "metadata": {},
   "outputs": [],
   "source": [
    "urls = ['https://www.housebeautiful.com/design-inspiration/house-tours/a35940421/melanie-turner-lewis-buck-crook-atlanta-home/',\n",
    "       'https://www.housebeautiful.com/design-inspiration/house-tours/a34716459/formarch-architecture-palm-springs-home/',\n",
    "       'https://www.housebeautiful.com/design-inspiration/house-tours/a33437685/ana-claudia-schultz-brownstone/',\n",
    "       'https://www.housebeautiful.com/shopping/furniture/a36362399/christian-siriano-furniture-collection/']\n",
    "\n",
    "hs_mcm = HouseBeautifulScrape(urls, 'm')"
   ]
  },
  {
   "cell_type": "code",
   "execution_count": 69,
   "metadata": {},
   "outputs": [],
   "source": [
    "urls = ['https://www.housebeautiful.com/design-inspiration/house-tours/a35809069/banner-day-interiors-home-tour/',\n",
    "       'https://www.housebeautiful.com/design-inspiration/a35153638/colleen-bashaw-new-jersey-home/',\n",
    "       'https://www.housebeautiful.com/design-inspiration/a34587195/studio-munroe-bay-area-family-home/',\n",
    "       'https://www.housebeautiful.com/design-inspiration/house-tours/a32661987/montauk-bungalow-brooklyn-home-company/',\n",
    "       'https://www.housebeautiful.com/lifestyle/a29427124/christina-anstead-house-photos/',\n",
    "       'https://www.housebeautiful.com/home-remodeling/interior-designers/q-and-a/a6968/colleen-bashaw-beach-house-interview/',\n",
    "       'https://www.housebeautiful.com/design-inspiration/a23748087/what-is-bohemian-design-style/']\n",
    "\n",
    "hs_boho = HouseBeautifulScrape(urls, 'b')"
   ]
  },
  {
   "cell_type": "code",
   "execution_count": 70,
   "metadata": {},
   "outputs": [],
   "source": [
    "urls = ['https://www.housebeautiful.com/design-inspiration/house-tours/a35486331/krystal-matthews-louisiana-farmhouse/']\n",
    "\n",
    "hs_farm = HouseBeautifulScrape(urls, 'f')"
   ]
  },
  {
   "cell_type": "markdown",
   "metadata": {},
   "source": [
    "#### Martha Stewart"
   ]
  },
  {
   "cell_type": "code",
   "execution_count": 71,
   "metadata": {},
   "outputs": [],
   "source": [
    "url = 'https://www.marthastewart.com/1011251/midcentury-modern-home-los-angeles?search_key=los+angeles+home&slide=af5aeb0b-ec3d-4795-9d67-ee90f73acf90#af5aeb0b-ec3d-4795-9d67-ee90f73acf90'\n",
    "html = requests.get(url)\n",
    "soup = BeautifulSoup(html.content, 'lxml')"
   ]
  },
  {
   "cell_type": "code",
   "execution_count": 72,
   "metadata": {},
   "outputs": [],
   "source": [
    "container = soup.findAll('div', class_ = 'glide-track')"
   ]
  },
  {
   "cell_type": "code",
   "execution_count": 73,
   "metadata": {},
   "outputs": [],
   "source": [
    "cont = container[0].findAll('p')"
   ]
  },
  {
   "cell_type": "code",
   "execution_count": 74,
   "metadata": {},
   "outputs": [],
   "source": [
    "def MarthaScrape(urls, style): \n",
    "    martha_scraped = {}\n",
    "    c = 1\n",
    "    for link in urls: \n",
    "        html = requests.get(link)\n",
    "        soup = BeautifulSoup(html.content, 'lxml')\n",
    "    \n",
    "        container = soup.findAll('div', class_ = 'glide-track')\n",
    "        cont = container[0].findAll('p')\n",
    "                \n",
    "        for i in range(len(cont)):\n",
    "            clean = cont[i].text.strip()\n",
    "            martha_scraped.update({style + str(c): clean})\n",
    "            c += 1\n",
    "    return martha_scraped"
   ]
  },
  {
   "cell_type": "code",
   "execution_count": 75,
   "metadata": {},
   "outputs": [],
   "source": [
    "urls = ['https://www.marthastewart.com/1011251/midcentury-modern-home-los-angeles?search_key=los+angeles+home&slide=8694dd6f-4bcb-4607-aec0-9fcedead4dfa#8694dd6f-4bcb-4607-aec0-9fcedead4dfa',\n",
    "       'https://www.marthastewart.com/7949226/midcentury-modern-palm-springs-wedding-rebecca-yale?slide=16e3b728-6f9b-47d9-9b4f-0aec23052106#16e3b728-6f9b-47d9-9b4f-0aec23052106']\n",
    "\n",
    "martha_mcm = MarthaScrape(urls, 'm')"
   ]
  },
  {
   "cell_type": "code",
   "execution_count": 76,
   "metadata": {},
   "outputs": [
    {
     "data": {
      "text/plain": [
       "403"
      ]
     },
     "execution_count": 76,
     "metadata": {},
     "output_type": "execute_result"
    }
   ],
   "source": [
    "url = 'https://www.sfgirlbybay.com/2020/08/19/on-trend-bohemian-whimsy/'\n",
    "html = requests.get(url)\n",
    "soup = BeautifulSoup(html.content, 'lxml')\n",
    "\n",
    "html.status_code"
   ]
  },
  {
   "cell_type": "code",
   "execution_count": 77,
   "metadata": {},
   "outputs": [],
   "source": [
    "container = soup.findAll('div', class_ = 'block text this-week dropcap')"
   ]
  },
  {
   "cell_type": "code",
   "execution_count": 78,
   "metadata": {},
   "outputs": [
    {
     "data": {
      "text/plain": [
       "[]"
      ]
     },
     "execution_count": 78,
     "metadata": {},
     "output_type": "execute_result"
    }
   ],
   "source": [
    "container"
   ]
  },
  {
   "cell_type": "code",
   "execution_count": 79,
   "metadata": {},
   "outputs": [
    {
     "data": {
      "text/plain": [
       "200"
      ]
     },
     "execution_count": 79,
     "metadata": {},
     "output_type": "execute_result"
    }
   ],
   "source": [
    "url = 'https://design-milk.com/mid-century-modern-bent-plywood-home-decor-by-ciseal/'\n",
    "html = requests.get(url)\n",
    "soup = BeautifulSoup(html.content, 'lxml')\n",
    "\n",
    "html.status_code"
   ]
  },
  {
   "cell_type": "code",
   "execution_count": 80,
   "metadata": {},
   "outputs": [],
   "source": [
    "container = soup.findAll('div', class_ = 'article-content')"
   ]
  },
  {
   "cell_type": "code",
   "execution_count": 81,
   "metadata": {},
   "outputs": [],
   "source": [
    "cont = container[0].findAll('p')"
   ]
  },
  {
   "cell_type": "code",
   "execution_count": 82,
   "metadata": {},
   "outputs": [],
   "source": [
    "def MilkScrape(urls, style): \n",
    "    milk_scraped = {}\n",
    "    c = 1\n",
    "    for link in urls: \n",
    "        html = requests.get(link)\n",
    "        soup = BeautifulSoup(html.content, 'lxml')\n",
    "    \n",
    "        container = soup.findAll('div', class_ = 'article-content')\n",
    "        cont = container[0].findAll('p')\n",
    "                \n",
    "        for i in range(len(cont)):\n",
    "            clean = cont[i].text.strip()\n",
    "            milk_scraped.update({style + str(c): clean})\n",
    "            c += 1\n",
    "    return milk_scraped"
   ]
  },
  {
   "cell_type": "code",
   "execution_count": 83,
   "metadata": {},
   "outputs": [],
   "source": [
    "urls = ['https://design-milk.com/mid-century-modern-bent-plywood-home-decor-by-ciseal/',\n",
    "       'https://design-milk.com/a-mid-century-wexler-is-transformed-with-vibrant-colors-and-bold-patterns/',\n",
    "       'https://design-milk.com/a-remodeled-mid-century-home-located-steps-away-from-huntington-harbor/',\n",
    "       'https://design-milk.com/spark-grills-inspired-by-mid-century-modern-design/',\n",
    "       'https://design-milk.com/stuart-silk-architects-updates-a-mid-century-house-in-rancho-mirage/',\n",
    "       'https://design-milk.com/warm-nordic-unveils-a-mid-century-table-lamp-named-ambience/',\n",
    "       'https://design-milk.com/post-11-15-later-block-shop-textiles-amsterdam-modern-collaborate-limited-edition-collection-mid-century-furniture/',\n",
    "       'https://design-milk.com/newmade-la-great-mid-century-design-at-affordable-prices/',\n",
    "       'https://design-milk.com/smilow-design-launches-authentic-mid-century-lighting-designs/']\n",
    "\n",
    "milk_mcm = MilkScrape(urls, 'm')"
   ]
  },
  {
   "cell_type": "code",
   "execution_count": 84,
   "metadata": {},
   "outputs": [],
   "source": [
    "urls = ['https://design-milk.com/sophisticated-brooklyn-apartment-bohemian-edge/',\n",
    "       'https://design-milk.com/french-fine-dining-restaurant-bohemian-twist/',\n",
    "        'https://design-milk.com/beth-buccinis-home-exhibits-a-playful-mix-of-texture-pattern-color/']\n",
    "\n",
    "milk_boho = MilkScrape(urls, 'b')"
   ]
  },
  {
   "cell_type": "code",
   "execution_count": 85,
   "metadata": {},
   "outputs": [
    {
     "data": {
      "text/plain": [
       "200"
      ]
     },
     "execution_count": 85,
     "metadata": {},
     "output_type": "execute_result"
    }
   ],
   "source": [
    "url = 'https://www.thespruce.com/decorating-in-farmhouse-style-1977571'\n",
    "html = requests.get(url)\n",
    "soup = BeautifulSoup(html.content, 'lxml')\n",
    "\n",
    "html.status_code"
   ]
  },
  {
   "cell_type": "code",
   "execution_count": 86,
   "metadata": {},
   "outputs": [],
   "source": [
    "container = soup.findAll('div', class_ = 'article__body right-rail')"
   ]
  },
  {
   "cell_type": "code",
   "execution_count": 87,
   "metadata": {},
   "outputs": [],
   "source": [
    "cont = container[0].findAll('p')"
   ]
  },
  {
   "cell_type": "code",
   "execution_count": 88,
   "metadata": {},
   "outputs": [],
   "source": [
    "def SpruceScrape(urls, style): \n",
    "    spruce_scraped = {}\n",
    "    c = 1\n",
    "    for link in urls: \n",
    "        html = requests.get(link)\n",
    "        soup = BeautifulSoup(html.content, 'lxml')\n",
    "    \n",
    "        container = soup.findAll('div', class_ = 'article__body right-rail')\n",
    "        cont = container[0].findAll('p')\n",
    "        \n",
    "        for i in range(len(cont)):\n",
    "            clean = cont[i].text.strip()\n",
    "            spruce_scraped.update({style + str(c): clean})\n",
    "            c += 1\n",
    "    return spruce_scraped"
   ]
  },
  {
   "cell_type": "code",
   "execution_count": 89,
   "metadata": {},
   "outputs": [],
   "source": [
    "urls = ['https://www.thespruce.com/farmhouse-style-bedroom-ideas-4136415',\n",
    "       'https://www.thespruce.com/inside-beautiful-farmhouse-style-kitchens-4129346',\n",
    "       'https://www.thespruce.com/modern-farmhouse-bathroom-ideas-4147466',\n",
    "       'https://www.thespruce.com/modern-farmhouse-style-living-rooms-4135941',\n",
    "       'https://www.thespruce.com/10-unmistakable-signs-you-re-low-key-obsessed-with-farmhouse-decor-5095348',\n",
    "       'https://www.thespruce.com/ways-to-add-farmhouse-style-4102345',\n",
    "       'https://www.thespruce.com/farmhouse-architecture-4692188',\n",
    "       'https://www.thespruce.com/classic-farmhouse-style-2213409',\n",
    "       'https://www.thespruce.com/ways-to-bring-your-farmhouse-style-outdoors-5115287',\n",
    "       'https://www.thespruce.com/hearth-and-hand-decor-at-target-4154081']\n",
    "\n",
    "spruce_farm = SpruceScrape(urls, 'f')"
   ]
  },
  {
   "cell_type": "code",
   "execution_count": 90,
   "metadata": {},
   "outputs": [],
   "source": [
    "urls = ['https://www.thespruce.com/decorators-guide-to-bohemian-style-1977570',\n",
    "       'https://www.thespruce.com/chic-modern-nurseries-with-bohemian-charm-4051727',\n",
    "       'https://www.thespruce.com/beautiful-boho-bedroom-decorating-ideas-4119470',\n",
    "       'https://www.thespruce.com/create-a-boho-chic-home-1791335',\n",
    "#        'https://www.thespruce.com/best-boho-bedding-4163343',\n",
    "        'https://www.thespruce.com/best-instagram-accounts-for-boho-lovers-5075353']\n",
    "\n",
    "spruce_boho = SpruceScrape(urls, 'b')"
   ]
  },
  {
   "cell_type": "code",
   "execution_count": 91,
   "metadata": {},
   "outputs": [],
   "source": [
    "url = 'https://www.thespruce.com/best-boho-bedding-4163343'\n",
    "html = requests.get(url)\n",
    "soup = BeautifulSoup(html.content, 'lxml')\n",
    "\n",
    "container = soup.findAll('div', class_ = 'loc content-body')\n",
    "cont = container[0].findAll('p')\n",
    "\n",
    "c = 1\n",
    "for i in range(len(cont)):\n",
    "    clean = cont[i].text.strip()\n",
    "    spruce_boho.update({'bb' + str(c): clean})\n",
    "    c += 1"
   ]
  },
  {
   "cell_type": "code",
   "execution_count": 92,
   "metadata": {},
   "outputs": [],
   "source": [
    "urls = ['https://www.thespruce.com/midcentury-modern-kitchen-ideas-4582208',\n",
    "       'https://www.thespruce.com/top-mid-century-modern-paint-colors-798000',\n",
    "       'https://www.thespruce.com/mid-century-modern-furniture-designers-to-know-4123681',\n",
    "       'https://www.thespruce.com/midcentury-modern-bedroom-ideas-4142250',\n",
    "       'https://www.thespruce.com/mid-century-modern-furniture-designers-to-know-4123681',\n",
    "       'https://www.thespruce.com/mid-century-modern-architecture-5072981',\n",
    "       'https://www.thespruce.com/mid-century-furniture-liven-up-decor-4098179',\n",
    "       'https://www.thespruce.com/mid-century-modern-lighting-4685246',\n",
    "       'https://www.thespruce.com/mid-century-modern-living-rooms-4769744',\n",
    "       'https://www.thespruce.com/best-mid-century-modern-instagram-accounts-5072412',\n",
    "       'https://www.thespruce.com/mid-century-modern-home-furnishings-148808',\n",
    "       'https://www.thespruce.com/things-you-should-know-about-mid-century-1391827',\n",
    "       'https://www.thespruce.com/guide-to-mid-century-modern-patio-furniture-4145802',\n",
    "       'https://www.thespruce.com/mid-century-modern-living-room-elements-4120959']\n",
    "\n",
    "spruce_mcm = SpruceScrape(urls, 'm')"
   ]
  },
  {
   "cell_type": "code",
   "execution_count": 93,
   "metadata": {},
   "outputs": [],
   "source": [
    "dicts = [spruce_mcm, spruce_boho, spruce_farm, milk_boho, milk_mcm, martha_mcm, hs_farm, hs_boho, hs_mcm]\n",
    "\n",
    "data2 = create_df(dicts)"
   ]
  },
  {
   "cell_type": "code",
   "execution_count": 94,
   "metadata": {},
   "outputs": [
    {
     "data": {
      "text/plain": [
       "(1069, 2)"
      ]
     },
     "execution_count": 94,
     "metadata": {},
     "output_type": "execute_result"
    }
   ],
   "source": [
    "data2.shape"
   ]
  },
  {
   "cell_type": "code",
   "execution_count": 95,
   "metadata": {},
   "outputs": [],
   "source": [
    "data2.set_index('index', inplace=True)"
   ]
  },
  {
   "cell_type": "code",
   "execution_count": 96,
   "metadata": {},
   "outputs": [],
   "source": [
    "data2.to_pickle('paragraphed_corpus2.pkl')"
   ]
  },
  {
   "cell_type": "code",
   "execution_count": null,
   "metadata": {},
   "outputs": [],
   "source": []
  }
 ],
 "metadata": {
  "kernelspec": {
   "display_name": "Python 3",
   "language": "python",
   "name": "python3"
  },
  "language_info": {
   "codemirror_mode": {
    "name": "ipython",
    "version": 3
   },
   "file_extension": ".py",
   "mimetype": "text/x-python",
   "name": "python",
   "nbconvert_exporter": "python",
   "pygments_lexer": "ipython3",
   "version": "3.8.3"
  }
 },
 "nbformat": 4,
 "nbformat_minor": 4
}
